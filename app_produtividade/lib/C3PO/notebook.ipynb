{
 "cells": [
  {
   "cell_type": "code",
   "execution_count": 1,
   "metadata": {},
   "outputs": [
    {
     "ename": "ModuleNotFoundError",
     "evalue": "No module named 'flask'",
     "output_type": "error",
     "traceback": [
      "\u001b[0;31m---------------------------------------------------------------------------\u001b[0m",
      "\u001b[0;31mModuleNotFoundError\u001b[0m                       Traceback (most recent call last)",
      "Cell \u001b[0;32mIn[1], line 1\u001b[0m\n\u001b[0;32m----> 1\u001b[0m \u001b[38;5;28;01mfrom\u001b[39;00m \u001b[38;5;21;01mflask\u001b[39;00m \u001b[38;5;28;01mimport\u001b[39;00m Flask, request, jsonify\n\u001b[1;32m      2\u001b[0m \u001b[38;5;28;01mfrom\u001b[39;00m \u001b[38;5;21;01msubprocess\u001b[39;00m \u001b[38;5;28;01mimport\u001b[39;00m Popen, PIPE\n\u001b[1;32m      3\u001b[0m \u001b[38;5;28;01mimport\u001b[39;00m \u001b[38;5;21;01mrequests\u001b[39;00m\n",
      "\u001b[0;31mModuleNotFoundError\u001b[0m: No module named 'flask'"
     ]
    }
   ],
   "source": [
    "from flask import Flask, request, jsonify\n",
    "from subprocess import Popen, PIPE\n",
    "import requests\n",
    "import pyautogui\n",
    "\n",
    "# 3. **Crie uma rota HTTP para executar o script:**\n",
    "\n",
    "\n",
    "app = Flask(__name__)\n",
    "\n",
    "@app.route('/execute', methods=['POST'])\n",
    "def execute():\n",
    "    # Obtenha o script de entrada\n",
    "    script = request.json['script']\n",
    "\n",
    "    # Execute o script usando Popen\n",
    "    proc = Popen(['python'], stdin=PIPE, stdout=PIPE, stderr=PIPE)\n",
    "    stdout, stderr = proc.communicate(script.encode())\n",
    "\n",
    "    # Retorne o resultado\n",
    "    if proc.returncode == 0:\n",
    "        return jsonify({'success': True, 'result': stdout.decode()})\n",
    "    else:\n",
    "        return jsonify({'success': False, 'error': stderr.decode()})\n",
    "\n",
    "if __name__ == '__main__':\n",
    "    app.run()\n",
    "\n",
    "# 4. **Envie um POST para a rota usando Requests:**\n",
    "\n",
    "\n",
    "url = 'http://localhost:5000/execute'\n",
    "\n",
    "# Carregue o script Python\n",
    "with open('script.py', 'r') as f:\n",
    "    script = f.read()\n",
    "\n",
    "# Prepare os dados POST\n",
    "data = {'script': script}\n",
    "\n",
    "# Envie a solicitação POST\n",
    "response = requests.post(url, json=data)\n",
    "\n",
    "# Verifique se a solicitação foi bem-sucedida\n",
    "if response.status_code == 200:\n",
    "    # Obtenha o resultado da execução do script\n",
    "    result = response.json()['result']\n",
    "    print(result)\n",
    "    pyautogui.moveTo(100, 200)\n",
    "    pyautogui.click()\n",
    "    pyautogui.typewrite('Hello world!')\n",
    "    \n",
    "else:\n",
    "    print('Erro:', response.text)"
   ]
  }
 ],
 "metadata": {
  "kernelspec": {
   "display_name": "Python 3",
   "language": "python",
   "name": "python3"
  },
  "language_info": {
   "codemirror_mode": {
    "name": "ipython",
    "version": 3
   },
   "file_extension": ".py",
   "mimetype": "text/x-python",
   "name": "python",
   "nbconvert_exporter": "python",
   "pygments_lexer": "ipython3",
   "version": "3.12.4"
  }
 },
 "nbformat": 4,
 "nbformat_minor": 2
}
