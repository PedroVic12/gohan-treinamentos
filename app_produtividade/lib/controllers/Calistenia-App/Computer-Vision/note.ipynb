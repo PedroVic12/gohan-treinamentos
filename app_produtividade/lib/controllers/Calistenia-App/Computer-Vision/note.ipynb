{
 "cells": [
  {
   "cell_type": "code",
   "execution_count": 4,
   "metadata": {},
   "outputs": [
    {
     "name": "stdout",
     "output_type": "stream",
     "text": [
      "Defaulting to user installation because normal site-packages is not writeable\n",
      "Collecting pdf2image\n",
      "  Downloading pdf2image-1.17.0-py3-none-any.whl.metadata (6.2 kB)\n",
      "Requirement already satisfied: pillow in /usr/lib/python3.11/site-packages (from pdf2image) (10.2.0)\n",
      "Downloading pdf2image-1.17.0-py3-none-any.whl (11 kB)\n",
      "Installing collected packages: pdf2image\n",
      "Successfully installed pdf2image-1.17.0\n"
     ]
    }
   ],
   "source": [
    "!pip install pdf2image --break-system-packages"
   ]
  },
  {
   "cell_type": "code",
   "execution_count": 7,
   "metadata": {},
   "outputs": [],
   "source": [
    "from pdf2image import convert_from_path\n",
    "import os\n",
    "\n",
    "def converter_pdfs_para_jpg(diretorio_pdf, diretorio_saida):\n",
    "    # Inicializa um contador para o nome do arquivo\n",
    "    contador_arquivo = 1\n",
    "\n",
    "    # Lista todos os arquivos no diretório PDF\n",
    "    for arquivo in sorted(os.listdir(diretorio_pdf)):\n",
    "        # Verifica se o arquivo é um PDF\n",
    "        if arquivo.lower().endswith('.pdf'):\n",
    "            # Constrói o caminho completo do arquivo PDF\n",
    "            caminho_completo = os.path.join(diretorio_pdf, arquivo)\n",
    "            # Converte o PDF para uma lista de imagens\n",
    "            imagens = convert_from_path(caminho_completo)\n",
    "\n",
    "            # Cria a pasta de saída, se não existir\n",
    "            if not os.path.exists(diretorio_saida):\n",
    "                os.makedirs(diretorio_saida)\n",
    "\n",
    "            # Salva cada imagem na pasta de saída\n",
    "            for imagem in imagens:\n",
    "                nome_arquivo = f\"{contador_arquivo}.jpg\"\n",
    "                caminho_imagem_saida = os.path.join(diretorio_saida, nome_arquivo)\n",
    "                imagem.save(caminho_imagem_saida, 'JPEG')\n",
    "                contador_arquivo += 1\n",
    "\n",
    "if __name__ == \"__main__\":\n",
    "    # Caminho do diretório que contém os arquivos PDF\n",
    "    diretorio_pdf = '../slides/'\n",
    "    # Caminho do diretório onde as imagens JPEG serão salvas\n",
    "    diretorio_saida = './saida'\n",
    "\n",
    "    # Converte todos os PDFs para JPEGs\n",
    "    converter_pdfs_para_jpg(diretorio_pdf, diretorio_saida)\n"
   ]
  }
 ],
 "metadata": {
  "kernelspec": {
   "display_name": "Python 3",
   "language": "python",
   "name": "python3"
  },
  "language_info": {
   "codemirror_mode": {
    "name": "ipython",
    "version": 3
   },
   "file_extension": ".py",
   "mimetype": "text/x-python",
   "name": "python",
   "nbconvert_exporter": "python",
   "pygments_lexer": "ipython3",
   "version": "3.11.6"
  }
 },
 "nbformat": 4,
 "nbformat_minor": 2
}
